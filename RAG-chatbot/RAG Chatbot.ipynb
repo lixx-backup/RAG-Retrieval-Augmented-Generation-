{
 "cells": [
  {
   "cell_type": "markdown",
   "id": "7ac29e1f-7a66-4ecc-bf2c-8f78f4b245b7",
   "metadata": {},
   "source": [
    "# RAG (Retrieval Augmented Generation) Chatbot Implementation\n",
    "\n",
    "This notebook demonstrates how to build a RAG chatbot that can answer questions based on PDF documents. The system combines document retrieval with LLM generation to provide accurate, context-aware responses.\n",
    "\n",
    "## Overview of the RAG Pipeline:\n",
    "1. **Document Loading**: Load PDF documents from a local directory\n",
    "2. **Text Chunking**: Split documents using two different strategies (recursive and semantic)\n",
    "3. **Vector Storage**: Store document embeddings in ChromaDB for similarity search\n",
    "4. **Hybrid Retrieval**: Combine semantic search with keyword-based BM25 retrieval\n",
    "5. **Reranking**: Use ColBERT to rerank retrieved documents for better relevance\n",
    "6. **Response Generation**: Generate answers using Google's Gemini model"
   ]
  },
  {
   "cell_type": "markdown",
   "id": "826ba5ab-ba28-4f57-b11b-3b77cce7b722",
   "metadata": {},
   "source": [
    "## 1. Import Required Libraries\n"
   ]
  },
  {
   "cell_type": "code",
   "execution_count": null,
   "id": "006077a6-ae76-4c82-8806-b01fd98c9c06",
   "metadata": {},
   "outputs": [],
   "source": [
    "from langchain_experimental.text_splitter import SemanticChunker\n",
    "from langchain_community.embeddings import HuggingFaceEmbeddings\n",
    "from langchain_chroma import Chroma\n",
    "import chromadb\n",
    "from langchain.document_loaders import PyPDFLoader\n",
    "from langchain_text_splitters import RecursiveCharacterTextSplitter\n",
    "import os\n",
    "from dotenv import load_dotenv\n",
    "load_dotenv()"
   ]
  },
  {
   "cell_type": "markdown",
   "id": "6418e25a-9fc9-4f78-b771-5f98d9c4a59e",
   "metadata": {},
   "source": [
    "## 2. Document Loading\n",
    "\n",
    "This section loads all PDF files from a specified directory and converts them into a format suitable for processing."
   ]
  },
  {
   "cell_type": "code",
   "execution_count": 18,
   "id": "8bcc121e-dddf-45fa-86d1-9e3570900296",
   "metadata": {},
   "outputs": [
    {
     "name": "stdout",
     "output_type": "stream",
     "text": [
      "Documents have been loaded\n"
     ]
    }
   ],
   "source": [
    "# Load data\n",
    "# from langchain.document_loaders import PyPDFLoader\n",
    "\n",
    "data_root = \"./data\"\n",
    "docs = []\n",
    "\n",
    "for filename in os.listdir(data_root):\n",
    "    filepath = os.path.join(data_root,filename)\n",
    "    if filepath.endswith(\".pdf\"):\n",
    "        loader = PyPDFLoader(filepath)\n",
    "        data = loader.load()\n",
    "        docs.extend(data)\n",
    "\n",
    "if docs:\n",
    "    print(\"Documents have been loaded\")\n",
    "else:\n",
    "    print(\"No PDF files found in the folder.\")"
   ]
  },
  {
   "cell_type": "markdown",
   "id": "40f822b4-29a4-408a-8458-2b28880af30e",
   "metadata": {},
   "source": [
    "## 3. Text Chunking Strategies\n",
    "\n",
    "We implement two different chunking strategies to compare their effectiveness:\n",
    "\n",
    "### 3.1 Recursive Character Text Splitting\n",
    "This method splits text based on character count with overlap to maintain context between chunks.\n"
   ]
  },
  {
   "cell_type": "code",
   "execution_count": 19,
   "id": "999e3afd-befe-4c69-a5e4-e95f94d930d1",
   "metadata": {},
   "outputs": [
    {
     "name": "stdout",
     "output_type": "stream",
     "text": [
      "number of chunks: 167\n"
     ]
    }
   ],
   "source": [
    "rec_text_splitter = RecursiveCharacterTextSplitter(\n",
    "    chunk_size=1000, chunk_overlap=100, separators = [\"\\n\\n\", \"\\n\", \" \", \"\"]\n",
    ")\n",
    "rec_text_splits = rec_text_splitter.split_documents(docs)\n",
    "print(f\"number of chunks: {len(rec_text_splits)}\")"
   ]
  },
  {
   "cell_type": "code",
   "execution_count": 20,
   "id": "2f97bbb5-20bb-4d9e-aae7-456a7e62f3ee",
   "metadata": {
    "scrolled": true
   },
   "outputs": [
    {
     "data": {
      "text/plain": [
       "Document(metadata={'producer': 'Adobe PDF Library 15.0', 'creator': 'Adobe InDesign 14.0 (Macintosh)', 'creationdate': '2021-04-14T15:36:17-05:00', 'moddate': '2021-04-14T15:37:00-05:00', 'source': './data/AMZN-2020-Shareholder-Letter.pdf', 'total_pages': 10, 'page': 2, 'page_label': '3'}, page_content='know that a variety of things can impact performance in any given week, day, or hour. If employees are on\\ntrack to miss a performance target over a period of time, their manager talks with them and provides\\ncoaching.\\nCoaching is also extended to employees who are excelling and in line for increased responsibilities. In fact,\\n82% of coaching is positive, provided to employees who are meeting or exceeding expectations. We terminate\\nthe employment of less than 2.6% of employees due to their inability to perform their jobs (and that\\nnumber was even lower in 2020 because of operational impacts of COVID-19).\\nEarth’s Best Employer and Earth’s Safest Place to Work\\nThe fact is, the large team of thousands of people who lead operations at Amazon have always cared deeply\\nfor our hourly employees, and we’re proud of the work environment we’ve created. We’re also proud of the\\nfact that Amazon is a company that does more than just create jobs for computer scientists and people with')"
      ]
     },
     "execution_count": 20,
     "metadata": {},
     "output_type": "execute_result"
    }
   ],
   "source": [
    "# Example: View a specific chunk to understand the splitting result\n",
    "\n",
    "rec_text_splits[10]"
   ]
  },
  {
   "cell_type": "markdown",
   "id": "7a728213-f9db-4100-9e62-a3910bcf8446",
   "metadata": {
    "scrolled": true
   },
   "source": [
    "### 3.2 Semantic Chunking\n",
    "This advanced method splits text based on semantic similarity, creating more coherent chunks."
   ]
  },
  {
   "cell_type": "code",
   "execution_count": null,
   "id": "03bc6d07-6cb9-44d5-9613-1eb63325e499",
   "metadata": {},
   "outputs": [],
   "source": [
    "# Initialize the embedding model for semantic analysis\n",
    "embedding_model = HuggingFaceEmbeddings(model_name=\"sentence-transformers/all-mpnet-base-v2\")\n",
    "semantic_text_splitter = SemanticChunker(embedding_model,breakpoint_threshold_type=\"percentile\",  breakpoint_threshold_amount=85)\n",
    "semantic_text_splits = semantic_text_splitter.split_documents(docs)\n",
    "print(f\"number of chunks: {len(semantic_text_splits)}\")"
   ]
  },
  {
   "cell_type": "markdown",
   "id": "e45aabd4-f631-4155-858e-0d80e097cb72",
   "metadata": {},
   "source": [
    "## 4. Vector Database Setup\n",
    "\n",
    "We use ChromaDB (cloud version) to store document embeddings for similarity search."
   ]
  },
  {
   "cell_type": "code",
   "execution_count": null,
   "id": "9199865f-7070-4af6-8740-13708bb89e4f",
   "metadata": {},
   "outputs": [],
   "source": [
    "# Connect to ChromaDB Cloud instance\n",
    "\n",
    "client = chromadb.CloudClient(\n",
    "    api_key=os.getenv('CHROMADB_API_KEY'),\n",
    "    tenant=os.getenv('CHROMADB_TENANT'),\n",
    "    database=os.getenv('CHROMADB_DATABASE')\n",
    ")\n",
    "\n",
    "# Create separate vector stores for recursive and semantic chunks\n",
    "\n",
    "vecstore_rec = Chroma(\n",
    "    client=client,\n",
    "    collection_name=\"my_kb_rec\",\n",
    "    embedding_function=embedding_model\n",
    ")\n",
    "\n",
    "vecstore_sem = Chroma(\n",
    "    client=client,\n",
    "    collection_name=\"my_kb_sem\",\n",
    "    embedding_function=embedding_model\n",
    ")\n",
    "\n",
    "# Add documents to vector stores\n",
    "\n",
    "# vecstore_rec.add_documents(rec_text_splits)\n",
    "# vecstore_sem.add_documents(semantic_text_splits)"
   ]
  },
  {
   "cell_type": "markdown",
   "id": "fda973f4-fe62-49f4-9746-aac5498257ca",
   "metadata": {
    "scrolled": true
   },
   "source": [
    "## 5. Basic Similarity Search\n",
    "Test basic vector similarity search to see how well each chunking strategy performs.\n"
   ]
  },
  {
   "cell_type": "code",
   "execution_count": 46,
   "id": "57082783-912e-42ec-971c-502a2169417a",
   "metadata": {},
   "outputs": [
    {
     "name": "stdout",
     "output_type": "stream",
     "text": [
      "Semantic chunking search results:\n",
      "\n",
      "--- Result 1\n",
      "Sometimes, you proactively invite it in, and sometimes it just comes\n",
      "a-knocking.\n",
      "\n",
      "--- Result 2\n",
      "customers check their risk\n",
      "level for COVID-19 at home. Customers can ask, “Alexa, what do I do if I think I have COVID-19?” or “Alexa,\n",
      "what do I do if I think I have coronavirus?” Alexa then asks a series of questions about the person’s symptoms\n",
      "and possible exposure. Based on those responses, Alexa then provides CDC-sourced guidance.\n",
      "\n",
      "Recursive chunking search results:\n",
      "\n",
      "--- Result 1\n",
      "stairway handrails, lockers, elevator buttons, and touch screens, and disinfectant wipes and hand sanitizer are\n",
      "standard across our network.\n",
      "We’ve also introduced extensive social distancing measures to help protect our associates. We have eliminated\n",
      "stand-up meetings during shifts, moved information sharing to bulletin boards, staggered break times, and spread\n",
      "out chairs in breakrooms. While training new hires is challenging with new distancing requirements, we continue\n",
      "to ensure that every new employee gets six hours of safety training. We’ve shifted training protocols so we don’t\n",
      "have employees gathering in one spot, and we’ve adjusted our hiring processes to allow for social distancing.\n",
      "A next step in protecting our employees might be regular testing of all Amazonians, including those showing no\n",
      "symptoms. Regular testing on a global scale, across all industries, would both help keep people safe and help get\n",
      "\n",
      "--- Result 2\n",
      "I am approached with similar stories all the time. I know people who’ve used their Amazon money for\n",
      "college, for emergencies, for houses, for vacations, to start their own business, for charity – and the list goes\n",
      "on. I’m proud of the wealth we’ve created for shareowners. It’s significant, and it improves their lives. But I\n",
      "also know something else: it’s not the largest part of the value we’ve created.\n",
      "Create More Than You Consume\n",
      "If you want to be successful in business (in life, actually), you have to create more than you consume. Y our\n",
      "goal should be to create value for everyone you interact with. Any business that doesn’t create value for those\n",
      "it touches, even if it appears successful on the surface, isn’t long for this world. It’s on the way out.\n",
      "Remember that stock prices are not about the past. They are a prediction offuture cash flows discounted\n",
      "back to the present. The stock market anticipates. I’m going to switch gears for a moment and talk about the\n"
     ]
    }
   ],
   "source": [
    "query = \"What's the first thing to do?\"\n",
    "\n",
    "def basic_search (vecstore, query, k=2):\n",
    "    results= vecstore.similarity_search(query, k=k)\n",
    "    for i, result in enumerate(results, 1):\n",
    "        print(f\"\\n--- Result {i}\")\n",
    "        print(result.page_content)\n",
    "\n",
    "\n",
    "print(\"Semantic chunking search results:\")\n",
    "basic_search(vecstore_sem, query)\n",
    "\n",
    "print(\"\\nRecursive chunking search results:\")\n",
    "basic_search(vecstore_rec, query)"
   ]
  },
  {
   "cell_type": "code",
   "execution_count": null,
   "id": "14f29c51-2229-45e0-a2d7-e89a672c2a23",
   "metadata": {},
   "outputs": [],
   "source": []
  },
  {
   "cell_type": "markdown",
   "id": "f33c31c8-3f48-4add-9570-758068593217",
   "metadata": {},
   "source": [
    "## 6. Hybrid Retrieval Implementation\n",
    "Hybrid retrieval combines semantic search (dense) with keyword search (sparse) for better results.\n"
   ]
  },
  {
   "cell_type": "code",
   "execution_count": null,
   "id": "8c4f3bdd-380c-4961-992e-1215e14f290e",
   "metadata": {},
   "outputs": [],
   "source": [
    "# TODO: compare the different results from 2 different chunking strategies"
   ]
  },
  {
   "cell_type": "code",
   "execution_count": 50,
   "id": "e24ea99c-2f1f-46a8-b6b3-2167f33540be",
   "metadata": {},
   "outputs": [],
   "source": [
    "from langchain.retrievers import EnsembleRetriever, BM25Retriever\n",
    "\n",
    "def hybrid_retrieve(vectorstore,k=5):\n",
    "    \"\"\"\n",
    "    Create a hybrid retriever that combines BM25 (keyword-based) and semantic search.\n",
    "    \n",
    "    Args:\n",
    "        vectorstore: The vector database containing document embeddings\n",
    "        k: Number of documents to retrieve\n",
    "    \n",
    "    Returns:\n",
    "        EnsembleRetriever: Combined retriever with weighted results\n",
    "    \"\"\"\n",
    "    \n",
    "    bm25_retriever = BM25Retriever.from_documents(docs)\n",
    "    bm25_retriever.k = k\n",
    "    semantic_retriever = vectorstore.as_retriever(search_kwargs={\"k\": k})\n",
    "    hybrid_retriever = EnsembleRetriever(\n",
    "        retrievers=[bm25_retriever, semantic_retriever],\n",
    "        weights=[0.4, 0.6]  # 40% BM25, 60% semantic - adjust as needed: BM25 scores are multiplied by 0.4, Semantic retriever scores are multiplied by 0.6,Then the ensemble merges all the documents and ranks them according to the weighted scores. \n",
    "    )\n",
    "    return hybrid_retriever"
   ]
  },
  {
   "cell_type": "code",
   "execution_count": 51,
   "id": "9800e9d9-0ee5-4d77-80a2-bf567a9dca80",
   "metadata": {},
   "outputs": [],
   "source": [
    "# Test hybrid retrieval\n",
    "\n",
    "query = \"What is important?\"\n",
    "\n",
    "# Create hybrid retrievers for both chunking strategies\n",
    "\n",
    "hybrid_retriver_rec = hybrid_retrieve(vecstore_rec)\n",
    "hybrid_retriver_sem = hybrid_retrieve(vecstore_sem)\n",
    "\n",
    "results_rec = hybrid_retriver_rec.invoke(query)\n",
    "results_sem = hybrid_retriver_sem.invoke(query)"
   ]
  },
  {
   "cell_type": "code",
   "execution_count": 53,
   "id": "3513b6ee-1577-4ae3-b028-13cb3e8c9922",
   "metadata": {},
   "outputs": [
    {
     "name": "stdout",
     "output_type": "stream",
     "text": [
      "=== Semantic Chunking Results ===\n",
      "--------------------------------------------------\n",
      "It’s significant, and it improves their lives.\n",
      "--------------------------------------------------\n",
      "But I\n",
      "also know something else: it’s not the largest part of the value we’ve created. Create More Than You Consume\n",
      "If you want to be successful in business (in life, actually), you have to create more than you consume. Y our\n",
      "goal should be to create value for everyone you interact with. Any business that doesn’t create value for those\n",
      "it touches, even if it appears successful on the surface, isn’t long for this world.\n",
      "--------------------------------------------------\n",
      "We create value for them.\n",
      "--------------------------------------------------\n",
      "If\n",
      "we stopped doing all of the continuous hard work that is needed to maintain our distinctiveness in that\n",
      "regard, we would quickly come into equilibrium with tyranny. We all know that distinctiveness – originality – is valuable. We are all taught to “be yourself.” What I’m\n",
      "really asking you to do is to embrace and be realistic about how much energy it takes to maintain that\n",
      "distinctiveness. The world wants you to be typical – in a thousand ways, it pulls at you. Don’t let it happen. Y ou have to pay a price for your distinctiveness, and it’s worth it. The fairy tale version of “be yourself” is that\n",
      "all the pain stops as soon as you allow your distinctiveness to shine. That version is misleading. Being\n",
      "yourself is worth it, but don’t expect it to be easy or free.\n",
      "--------------------------------------------------\n",
      "It’s about all the other detailed aspects of the relationship too. Does your Chair take comfort in the outcome of the recent union vote in Bessemer? No, he doesn’t. I think\n",
      "we need to do a better job for our employees. While the voting results were lopsided and our direct\n",
      "relationship with employees is strong, it’s clear to me that we need a bettervision for how we create value for\n",
      "employees – a vision for their success. If you read some of the news reports, you might think we have no care for employees. In those reports, our\n",
      "employees are sometimes accused of being desperate souls and treated as robots. That’s not accurate.\n",
      "\n",
      "=== Recusrsive Splitting Results ===\n",
      "--------------------------------------------------\n",
      "single most important element of Amazon.com’s success.\n",
      "It’s not easy to work here (when I interview people I tell them, “Y ou can work long, hard, or smart, but at\n",
      "Amazon.com you can’t choose two out of three”), but we are working to build something important, something\n",
      "that matters to our customers, something that we can all tell our grandchildren about. Such things aren’t meant to\n",
      "be easy. We are incredibly fortunate to have this group of dedicated employees whose sacrifices and passion\n",
      "build Amazon.com.\n",
      "Goals for 1998\n",
      "We are still in the early stages of learning how to bring new value to our customers through Internet\n",
      "commerce and merchandising. Our goal remains to continue to solidify and extend our brand and customer base.\n",
      "This requires sustained investment in systems and infrastructure to support outstanding customer convenience,\n",
      "selection, and service while we grow. We are planning to add music to our product offering, and over time we\n",
      "--------------------------------------------------\n",
      "beings. That is what happens when they die.”\n",
      "While the passage is not intended as a metaphor, it’s nevertheless a fantastic one, and very relevant to\n",
      "Amazon. I would argue that it’s relevant to all companies and all institutions and to each of our individual\n",
      "lives too. In what ways does the world pull at you in an attempt to make you normal? How much work does it\n",
      "take to maintain your distinctiveness? To keep alive the thing or things that make you special?\n",
      "I know a happily married couple who have a running joke in their relationship. Not infrequently, the\n",
      "husband looks at the wife with faux distress and says to her, “Can’t you just be normal?” They both smile\n",
      "and laugh, and of course the deep truth is that her distinctiveness is something he loves about her. But, at the\n",
      "same time, it’s also true that things would often be easier – take less energy – if we were a little more\n",
      "normal.\n",
      "--------------------------------------------------\n",
      "single most important element of Amazon.com’s success.\n",
      "It’s not easy to work here (when I interview people I tell them, “You can work long, hard, or smart, but at\n",
      "Amazon.com you can’t choose two out of three”), but we are working to build something important, something\n",
      "that matters to our customers, something that we can all tell our grandchildren about. Such things aren’t meant to\n",
      "be easy. We are incredibly fortunate to have this group of dedicated employees whose sacrifices and passion\n",
      "build Amazon.com.\n",
      "Goals for 1998\n",
      "We are still in the early stages of learning how to bring new value to our customers through Internet\n",
      "commerce and merchandising. Our goal remains to continue to solidify and extend our brand and customer base.\n",
      "This requires sustained investment in systems and infrastructure to support outstanding customer convenience,\n",
      "selection, and service while we grow. We are planning to add music to our product offering, and over time we\n",
      "--------------------------------------------------\n",
      "to take collective action from big companies, small companies, nation states, global organizations, and\n",
      "individuals, and I’m excited to be part of this journey and optimistic that humanity can come together to\n",
      "solve this challenge.\n",
      "Differentiation is Survival and the Universe Wants You to be Typical\n",
      "This is my last annual shareholder letter as the CEO of Amazon, and I have one last thing of utmost\n",
      "importance I feel compelled to teach. I hope all Amazonians take it to heart.\n",
      "Here is a passage from Richard Dawkins’ (extraordinary) book The Blind Watchmaker. It’s about a basic\n",
      "fact of biology.\n",
      "“Staving off death is a thing that you have to work at. Left to itself – and that is what it is when it\n",
      "dies – the body tends to revert to a state of equilibrium with its environment. If you measure some\n",
      "quantity such as the temperature, the acidity, the water content or the electrical potential in a living\n",
      "body, you will typically find that it is markedly different from the corresponding measure in the\n",
      "surroundings. Our bodies, for instance, are usually hotter than our surroundings, and in cold climates\n",
      "they have to work hard to maintain the differential. When we die the work stops, the temperature\n",
      "differential starts to disappear, and we end up the same temperature as our surroundings. Not all\n",
      "animals work so hard to avoid coming into equilibrium with their surrounding temperature, but all\n",
      "animals do some comparable work. For instance, in a dry country, animals and plants work to\n",
      "maintain the fluid content of their cells, work against a natural tendency for water to flow from them\n",
      "into the dry outside world. If they fail they die. More generally, if living things didn’t work actively to\n",
      "prevent it, they would eventually merge into their surroundings, and cease to exist as autonomous\n",
      "beings. That is what happens when they die.”\n",
      "While the passage is not intended as a metaphor, it’s nevertheless a fantastic one, and very relevant to\n",
      "Amazon. I would argue that it’s relevant to all companies and all institutions and to each of our individual\n",
      "lives too. In what ways does the world pull at you in an attempt to make you normal? How much work does it\n",
      "take to maintain your distinctiveness? To keep alive the thing or things that make you special?\n",
      "I know a happily married couple who have a running joke in their relationship. Not infrequently, the\n",
      "husband looks at the wife with faux distress and says to her, “Can’t you just be normal?” They both smile\n",
      "and laugh, and of course the deep truth is that her distinctiveness is something he loves about her. But, at the\n",
      "same time, it’s also true that things would often be easier – take less energy – if we were a little more\n",
      "normal.\n",
      "This phenomenon happens at all scale levels. Democracies are not normal. Tyranny is the historical norm. If\n",
      "we stopped doing all of the continuous hard work that is needed to maintain our distinctiveness in that\n",
      "regard, we would quickly come into equilibrium with tyranny.\n",
      "We all know that distinctiveness – originality – is valuable. We are all taught to “be yourself.” What I’m\n",
      "really asking you to do is to embrace and be realistic about how much energy it takes to maintain that\n",
      "distinctiveness. The world wants you to be typical – in a thousand ways, it pulls at you. Don’t let it happen.\n",
      "Y ou have to pay a price for your distinctiveness, and it’s worth it. The fairy tale version of “be yourself” is that\n",
      "all the pain stops as soon as you allow your distinctiveness to shine. That version is misleading. Being\n",
      "yourself is worth it, but don’t expect it to be easy or free. Y ou’ll have to put energy into it continuously.\n",
      "The world will always try to make Amazon more typical – to bring us into equilibrium with our environment.\n",
      "It will take continuous effort, but we can and must be better than that.\n",
      "***\n",
      "As always, I attach our 1997 shareholder letter. It concluded with this: “We at Amazon.com are grateful to\n",
      "our customers for their business and trust, to each other for our hard work, and to our shareholders for their\n",
      "support and encouragement.” That hasn’t changed a bit. I want to especially thank Andy Jassy for agreeing\n",
      "to take on the CEO role. It’s a hard job with a lot of responsibility. Andy is brilliant and has the highest\n",
      "--------------------------------------------------\n",
      "I am approached with similar stories all the time. I know people who’ve used their Amazon money for\n",
      "college, for emergencies, for houses, for vacations, to start their own business, for charity – and the list goes\n",
      "on. I’m proud of the wealth we’ve created for shareowners. It’s significant, and it improves their lives. But I\n",
      "also know something else: it’s not the largest part of the value we’ve created.\n",
      "Create More Than You Consume\n",
      "If you want to be successful in business (in life, actually), you have to create more than you consume. Y our\n",
      "goal should be to create value for everyone you interact with. Any business that doesn’t create value for those\n",
      "it touches, even if it appears successful on the surface, isn’t long for this world. It’s on the way out.\n",
      "Remember that stock prices are not about the past. They are a prediction offuture cash flows discounted\n",
      "back to the present. The stock market anticipates. I’m going to switch gears for a moment and talk about the\n",
      "past. How much value did we create for shareowners in 2020? This is a relatively easy question to answer\n",
      "because accounting systems are set up to answer it. Our net income in 2020 was $21.3 billion. If, instead of\n",
      "being a publicly traded company with thousands of owners, Amazon were a sole proprietorship with a single\n",
      "owner, that’s how much the owner would have earned in 2020.\n",
      "How about employees? This is also a reasonably easy value creation question to answer because we can look\n",
      "at compensation expense. What is an expense for a company is income for employees. In 2020, employees\n",
      "earned $80 billion, plus another $11 billion to include benefits and various payroll taxes, for a total of\n",
      "$91 billion.\n",
      "How about third-party sellers? We have an internal team (the Selling Partner Services team) that works to\n",
      "answer that question. They estimate that, in 2020, third-party seller profits from selling on Amazon were\n",
      "between $25 billion and $39 billion, and to be conservative here I’ll go with $25 billion.\n",
      "For customers, we have to break it down into consumer customers and AWS customers.\n",
      "We’ll do consumers first. We offer low prices, vast selection, and fast delivery, but imagine we ignore all of\n",
      "that for the purpose of this estimate and value only one thing: we save customers time.\n",
      "Customers complete 28% of purchases on Amazon in three minutes or less, and half of all purchases are\n",
      "finished in less than 15 minutes. Compare that to the typical shopping trip to a physical store – driving,\n",
      "parking, searching store aisles, waiting in the checkout line, finding your car, and driving home. Research\n",
      "suggests the typical physical store trip takes about an hour. If you assume that a typical Amazon purchase\n",
      "takes 15 minutes and that it saves you a couple of trips to a physical store a week, that’s more than 75\n",
      "hours a year saved. That’s important. We’re all busy in the early 21st century.\n",
      "So that we can get a dollar figure, let’s value the time savings at $10 per hour, which is conservative. Seventy-\n",
      "five hours multiplied by $10 an hour and subtracting the cost of Prime gives you value creation for each\n",
      "Prime member of about $630. We have 200 million Prime members, for a total in 2020 of $126 billion of value\n",
      "creation.\n",
      "AWS is challenging to estimate because each customer’s workload is so different, but we’ll do it anyway,\n",
      "acknowledging up front that the error bars are high. Direct cost improvements from operating in the cloud\n",
      "versus on premises vary, but a reasonable estimate is 30%. Across AWS’s entire 2020 revenue of $45 billion,\n",
      "that 30% would imply customer value creation of $19 billion (what would have cost them $64 billion on\n",
      "their own cost $45 billion from AWS). The difficult part of this estimation exercise is that the direct cost\n",
      "reduction is the smallest portion of the customer benefit of moving to the cloud. The bigger benefit is the\n",
      "increased speed of software development – something that can significantly improve the customer’s\n",
      "competitiveness and top line. We have no reasonable way of estimating that portion of customer value\n",
      "except to say that it’s almost certainly larger than the direct cost savings. To be conservative here (and\n",
      "remembering we’re really only trying to get ballpark estimates), I’ll say it’s the same and call AWS customer\n",
      "value creation $38 billion in 2020.\n",
      "Adding AWS and consumer together gives us total customer value creation in 2020 of $164 billion.\n"
     ]
    }
   ],
   "source": [
    "# Examine the retrieved results\n",
    "print(\"=== Semantic Chunking Results ===\")\n",
    "for chunk in results_sem[:5]:\n",
    "    print(\"-\"*50)\n",
    "    print(chunk.page_content)\n",
    "\n",
    "print(\"\\n=== Recusrsive Splitting Results ===\")\n",
    "for chunk in results_rec[:5]:\n",
    "    print(\"-\"*50)\n",
    "    print(chunk.page_content)"
   ]
  },
  {
   "cell_type": "markdown",
   "id": "9a9fd34e-79b9-4d8e-a643-457ac9eae969",
   "metadata": {},
   "source": [
    "## 7. Advanced Reranking with ColBERT\n",
    "ColBERT reranking improves the relevance of retrieved documents by using a more sophisticated scoring mechanism.\n"
   ]
  },
  {
   "cell_type": "code",
   "execution_count": 56,
   "id": "cb55cf83-c8a6-4734-b76b-fc62e4651eae",
   "metadata": {},
   "outputs": [
    {
     "name": "stdout",
     "output_type": "stream",
     "text": [
      "Loading ColBERTRanker model colbert-ir/colbertv2.0 (this message can be suppressed by setting verbose=0)\n",
      "No device set\n",
      "Using device mps\n",
      "No dtype set\n",
      "Using dtype torch.float32\n",
      "Loading model colbert-ir/colbertv2.0, this might take a while...\n",
      "Linear Dim set to: 128 for downcasting\n"
     ]
    }
   ],
   "source": [
    "from rerankers import Reranker\n",
    "# Initialize ColBERT reranker\n",
    "\n",
    "colbert_ranker = Reranker (\"colbert-ir/colbertv2.0\", model_type=\"colbert\")\n",
    "retreived_docs = [ chunk.page_content for chunk in results_sem]\n",
    "colbert_rerank_results = colbert_ranker.rank(query = query, docs = retreived_docs)"
   ]
  },
  {
   "cell_type": "code",
   "execution_count": 57,
   "id": "86cd6e6b-c2e8-46a0-acbe-fb0a8debddcd",
   "metadata": {},
   "outputs": [
    {
     "name": "stdout",
     "output_type": "stream",
     "text": [
      "=== Reranked Results ===\n",
      "\n",
      "Rank: 1\n",
      "Score: 1.3301\n",
      "Text: It’s significant, and it improves their lives....\n",
      "\n",
      "Rank: 2\n",
      "Score: 0.7695\n",
      "Text: We create value for them....\n",
      "\n",
      "Rank: 3\n",
      "Score: 0.6699\n",
      "Text: to take collective action from big companies, small companies, nation states, global organizations, and\n",
      "individuals, and I’m excited to be part of this journey and optimistic that humanity can come to...\n",
      "\n",
      "Rank: 4\n",
      "Score: 0.6318\n",
      "Text: If\n",
      "we stopped doing all of the continuous hard work that is needed to maintain our distinctiveness in that\n",
      "regard, we would quickly come into equilibrium with tyranny. We all know that distinctiveness...\n",
      "\n",
      "Rank: 5\n",
      "Score: 0.4986\n",
      "Text: But I\n",
      "also know something else: it’s not the largest part of the value we’ve created. Create More Than You Consume\n",
      "If you want to be successful in business (in life, actually), you have to create more...\n",
      "\n",
      "Rank: 6\n",
      "Score: 0.4056\n",
      "Text: It’s about all the other detailed aspects of the relationship too. Does your Chair take comfort in the outcome of the recent union vote in Bessemer? No, he doesn’t. I think\n",
      "we need to do a better job ...\n",
      "\n",
      "Rank: 7\n",
      "Score: 0.3581\n",
      "Text: I am approached with similar stories all the time. I know people who’ve used their Amazon money for\n",
      "college, for emergencies, for houses, for vacations, to start their own business, for charity – and ...\n",
      "\n",
      "Rank: 8\n",
      "Score: 0.2857\n",
      "Text: Summarizing:\n",
      "Shareholders $21B\n",
      "Employees $91B\n",
      "3P Sellers $25B\n",
      "Customers $164B\n",
      "Total $301B\n",
      "If each group had an income statement representing their interactions with Amazon, the numbers above\n",
      "would be ...\n",
      "\n",
      "Rank: 9\n",
      "Score: 0.1962\n",
      "Text: The Climate Pledge\n",
      "In an earlier draft of this letter, I started this section with arguments and examples designed to demonstrate\n",
      "that human-induced climate change is real. But, bluntly, I think we ca...\n",
      "\n",
      "Rank: 10\n",
      "Score: 0.1593\n",
      "Text: through the pandemic the same way without the dedication and extraordinary efforts shown by our teams\n",
      "during this period, and I’m eternally grateful.\n",
      "It’s not normal for a company of any size to be ab...\n"
     ]
    }
   ],
   "source": [
    "print(\"=== Reranked Results ===\")\n",
    "for result in colbert_rerank_results.results:\n",
    "    print(f\"\\nRank: {result.rank}\")\n",
    "    print(f\"Score: {result.score:.4f}\")\n",
    "    print(f\"Text: {result.document.text[:200]}...\")"
   ]
  },
  {
   "cell_type": "markdown",
   "id": "9363e003-fcdd-4b6f-91f1-93f1a118f3b0",
   "metadata": {},
   "source": [
    "## 8. Response Generation with Gemini\n",
    "Generate final answers using Google's Gemini model based on the retrieved and reranked context.\n"
   ]
  },
  {
   "cell_type": "code",
   "execution_count": null,
   "id": "b350be62-01b9-4dff-9cdd-5372fa59ec84",
   "metadata": {},
   "outputs": [],
   "source": [
    "from google import genai\n",
    "from google.genai import types\n",
    "\n",
    "# Initialize Gemini client\n",
    "\n",
    "client = genai.Client(api_key=os.getenv('GOOGLE_API_KEY'))\n",
    "\n",
    "context = \"\\n\\n\".join([result.document.text for result in colbert_rerank_results.results if result.score > 0.4])\n",
    "\n",
    "prompt_rag = f\"\"\"Question: {query}\n",
    "Context: {context}\n",
    "Based on the context above, provide a detailed answer:\"\"\"\n",
    "\n",
    "generate_content_config = types.GenerateContentConfig(\n",
    "    temperature=0.7, # Controls randomness (0.0 = deterministic, 1.0 = very random)\n",
    "    top_p = 0.85, # Controls diversity of token selection\n",
    "    thinking_config = types.ThinkingConfig(\n",
    "        thinking_budget=0,# Disables thinking\n",
    "    )\n",
    ")\n",
    "response = client.models.generate_content(\n",
    "    model=\"gemini-2.5-flash\",\n",
    "    contents=prompt_rag,\n",
    "    config=generate_content_config\n",
    ")"
   ]
  },
  {
   "cell_type": "code",
   "execution_count": null,
   "id": "654243bf-20a7-4559-8c19-d4fc15f352ac",
   "metadata": {},
   "outputs": [],
   "source": []
  },
  {
   "cell_type": "code",
   "execution_count": null,
   "id": "d89836eb-0e6f-44c1-baf1-283876f706e6",
   "metadata": {},
   "outputs": [],
   "source": []
  },
  {
   "cell_type": "code",
   "execution_count": null,
   "id": "42b96368-ede2-456d-af44-85a780a40c17",
   "metadata": {},
   "outputs": [],
   "source": []
  },
  {
   "cell_type": "code",
   "execution_count": null,
   "id": "f5ed3a4b-33c9-4976-b3b5-455fbb0c4919",
   "metadata": {},
   "outputs": [],
   "source": [
    "# TODO: Implement conversation memory\n",
    "# - Store chat history to maintain context across multiple questions\n",
    "# - Use techniques like conversation summarization for long chats\n",
    "\n",
    "# TODO: Add evaluation metrics\n",
    "# - Implement RAGAS (Retrieval Augmented Generation Assessment) for quality measurement\n",
    "\n",
    "#TODO: Prompt engineering should be implemented, once the focus of this RAG chabot has been decided"
   ]
  },
  {
   "cell_type": "code",
   "execution_count": 62,
   "id": "381f36e8-09a6-4093-b2a2-bc319092fb4d",
   "metadata": {},
   "outputs": [
    {
     "data": {
      "text/plain": [
       "'Based on the provided text, several things are highlighted as important:\\n\\n1.  **Creating Value:** This is a recurring and central theme. The text explicitly states, \"Your goal should be to create value for everyone you interact with. Any business that doesn’t create value for those it touches, even if it appears successful on the surface, isn’t long for this world.\" It\\'s also mentioned that creating value for customers is significant and improves their lives.\\n\\n2.  **Distinctiveness/Originality:** This is presented as \"of utmost importance\" by the CEO. The text uses a biological metaphor to explain that just as living things must work to maintain their distinctiveness from their environment to survive, companies and individuals must work to maintain their originality. It states, \"We all know that distinctiveness – originality – is valuable. We are all taught to \\'be yourself.\\'\" It emphasizes that maintaining distinctiveness requires continuous effort and a \"price,\" but \"it\\'s worth it.\"\\n\\n3.  **Continuous Hard Work/Energy:** This is crucial for both creating value and maintaining distinctiveness. The text repeatedly mentions the \"continuous hard work\" and \"energy\" required to prevent merging into the \"typical\" or \"normal.\" Staving off death, maintaining distinctiveness, and even maintaining democracies are all presented as requiring constant effort.\\n\\n4.  **Solving Challenges/Collective Action:** The very beginning of the text highlights the importance of \"collective action from big companies, small companies, nation states, global organizations, and individuals\" to \"solve this challenge\" (referring to an unstated but implied global challenge).\\n\\n5.  **Employee Well-being and Success:** The CEO explicitly states, \"I think we need to do a better job for our employees... it’s clear to me that we need a better vision for how we create value for employees – a vision for their success.\" This indicates that ensuring employees are valued and successful is important.\\n\\nIn summary, the text emphasizes the importance of **creating value for all stakeholders (customers, employees, etc.), maintaining distinctiveness through continuous hard work, and engaging in collective action to solve challenges.**'"
      ]
     },
     "execution_count": 62,
     "metadata": {},
     "output_type": "execute_result"
    }
   ],
   "source": [
    "response.text"
   ]
  },
  {
   "cell_type": "code",
   "execution_count": null,
   "id": "7760d8b6-39cc-4ae1-97aa-f009c8ceccbb",
   "metadata": {},
   "outputs": [],
   "source": []
  }
 ],
 "metadata": {
  "kernelspec": {
   "display_name": "Python 3 (ipykernel)",
   "language": "python",
   "name": "python3"
  },
  "language_info": {
   "codemirror_mode": {
    "name": "ipython",
    "version": 3
   },
   "file_extension": ".py",
   "mimetype": "text/x-python",
   "name": "python",
   "nbconvert_exporter": "python",
   "pygments_lexer": "ipython3",
   "version": "3.13.7"
  }
 },
 "nbformat": 4,
 "nbformat_minor": 5
}
